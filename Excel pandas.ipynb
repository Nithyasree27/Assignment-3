{
 "cells": [
  {
   "cell_type": "code",
   "execution_count": 4,
   "id": "094fc597",
   "metadata": {},
   "outputs": [
    {
     "name": "stdout",
     "output_type": "stream",
     "text": [
      "\n",
      "-----------------------------\n",
      "OTT USERS:\n",
      "-----------------------------\n",
      "MEAN= 39.43030000000001\n",
      "MEDIAN= 34.5\n",
      "MODE= 0    30.0\n",
      "dtype: float64\n",
      "MAXIMUM= 87.0\n",
      "MINIMUM= 3.0\n",
      "STANDARD DEVIATION= 22.623234032536317\n",
      "VARIENCE= 511.8107180909094\n",
      "SKEWNESS= 0.39949053972630755\n",
      "KURTOSIS= -0.9051139178505112\n",
      "\n",
      "-----------------------------\n",
      "THEATRE USERS:\n",
      "-----------------------------\n",
      "MEAN= 59.035999999999994\n",
      "MEDIAN= 62.5\n",
      "MODE= 0    68.0\n",
      "dtype: float64\n",
      "MAXIMUM= 96.4\n",
      "MINIMUM= 0.0\n",
      "STANDARD DEVIATION= 19.597966911664766\n",
      "VARIENCE= 384.080307070707\n",
      "SKEWNESS= -0.7895553326129084\n",
      "KURTOSIS= 0.37045361490212336\n",
      "\n",
      "-------------------------------------------------------------\n",
      "\n",
      "CONCLUSION:\n",
      "\n",
      "We conclude that, THEATER is preferred by many users because it is consistent.\n",
      "It clearly states that the user likes to watch movies in theaters than otts\n"
     ]
    }
   ],
   "source": [
    "import pandas as pd\n",
    "data=pd.read_excel(\"E:/imarticus/excels/ottTheatreData.xlsx\")\n",
    "a=data.OTT_USERS.var()\n",
    "b=data.THEATRE_USERS.var()\n",
    "print(\"\\n-----------------------------\")\n",
    "print(\"OTT USERS:\")\n",
    "print(\"-----------------------------\")\n",
    "print(\"MEAN=\",data.OTT_USERS.mean())\n",
    "print(\"MEDIAN=\",data.OTT_USERS.median())\n",
    "print(\"MODE=\",data.OTT_USERS.mode())\n",
    "print(\"MAXIMUM=\",data.OTT_USERS.max())\n",
    "print(\"MINIMUM=\",data.OTT_USERS.min())\n",
    "print(\"STANDARD DEVIATION=\",data.OTT_USERS.std())\n",
    "print(\"VARIENCE=\",data.OTT_USERS.var())\n",
    "print(\"SKEWNESS=\",data.OTT_USERS.skew())\n",
    "print(\"KURTOSIS=\",data.OTT_USERS.kurt())\n",
    "print(\"\\n-----------------------------\")\n",
    "print(\"THEATRE USERS:\")\n",
    "print(\"-----------------------------\")\n",
    "print(\"MEAN=\",data.THEATRE_USERS.mean())\n",
    "print(\"MEDIAN=\",data.THEATRE_USERS.median())\n",
    "print(\"MODE=\",data.THEATRE_USERS.mode())\n",
    "print(\"MAXIMUM=\",data.THEATRE_USERS.max())\n",
    "print(\"MINIMUM=\",data.THEATRE_USERS.min())\n",
    "print(\"STANDARD DEVIATION=\",data.THEATRE_USERS.std())\n",
    "print(\"VARIENCE=\",data.THEATRE_USERS.var())\n",
    "print(\"SKEWNESS=\",data.THEATRE_USERS.skew())\n",
    "print(\"KURTOSIS=\",data.THEATRE_USERS.kurt())\n",
    "print(\"\\n-------------------------------------------------------------\")\n",
    "print(\"\\nCONCLUSION:\")\n",
    "if(a<b):\n",
    "    print(\"\\nWe conclude that, OTT is preferred by many users because it is consistent\")\n",
    "else:\n",
    "    print(\"\\nWe conclude that, THEATER is preferred by many users because it is consistent.\\nIt clearly states that the user likes to watch movies in theaters than otts\")"
   ]
  },
  {
   "cell_type": "code",
   "execution_count": null,
   "id": "e85e19d2",
   "metadata": {},
   "outputs": [],
   "source": []
  }
 ],
 "metadata": {
  "kernelspec": {
   "display_name": "Python 3 (ipykernel)",
   "language": "python",
   "name": "python3"
  },
  "language_info": {
   "codemirror_mode": {
    "name": "ipython",
    "version": 3
   },
   "file_extension": ".py",
   "mimetype": "text/x-python",
   "name": "python",
   "nbconvert_exporter": "python",
   "pygments_lexer": "ipython3",
   "version": "3.9.7"
  }
 },
 "nbformat": 4,
 "nbformat_minor": 5
}
